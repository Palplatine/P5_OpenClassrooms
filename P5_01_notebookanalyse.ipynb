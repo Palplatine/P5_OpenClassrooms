{
 "cells": [
  {
   "cell_type": "code",
   "execution_count": 1,
   "id": "1ec8a72b",
   "metadata": {},
   "outputs": [],
   "source": [
    "%load_ext pycodestyle_magic\n",
    "%pycodestyle_on"
   ]
  },
  {
   "cell_type": "code",
   "execution_count": 2,
   "id": "29d27ba2",
   "metadata": {},
   "outputs": [],
   "source": [
    "import pandas as pd\n",
    "import numpy as np\n",
    "import missingno as msno\n",
    "\n",
    "from datetime import datetime\n",
    "\n",
    "import matplotlib\n",
    "import matplotlib.pyplot as plt\n",
    "import seaborn as sns"
   ]
  },
  {
   "cell_type": "code",
   "execution_count": 3,
   "id": "06b9a498",
   "metadata": {},
   "outputs": [
    {
     "name": "stdout",
     "output_type": "stream",
     "text": [
      "pandas version : 1.2.4 \n",
      "\n",
      "numpy version : 1.19.5 \n",
      "\n",
      "missingno version : 0.5.0 \n",
      "\n",
      "matplotlib version : 3.3.4 \n",
      "\n",
      "seaborn version : 0.11.2\n"
     ]
    }
   ],
   "source": [
    "print('pandas version :', pd.__version__, '\\n')\n",
    "print('numpy version :', np.__version__, '\\n')\n",
    "print('missingno version :', msno.__version__, '\\n')\n",
    "print('matplotlib version :', matplotlib.__version__, '\\n')\n",
    "print('seaborn version :', sns.__version__)"
   ]
  },
  {
   "cell_type": "code",
   "execution_count": 4,
   "id": "63742f84",
   "metadata": {},
   "outputs": [],
   "source": [
    "# On charge nos deux jeux de données\n",
    "customers = pd.read_csv('olist_customers_dataset.csv')\n",
    "geolocation = pd.read_csv('olist_geolocation_dataset.csv')\n",
    "order_items = pd.read_csv('olist_order_items_dataset.csv')\n",
    "order_payments = pd.read_csv('olist_order_payments_dataset.csv')\n",
    "order_reviews = pd.read_csv('olist_order_reviews_dataset.csv')\n",
    "orders = pd.read_csv('olist_orders_dataset.csv')\n",
    "products = pd.read_csv('olist_products_dataset.csv')\n",
    "sellers = pd.read_csv('olist_sellers_dataset.csv')"
   ]
  },
  {
   "cell_type": "markdown",
   "id": "da94774a",
   "metadata": {},
   "source": [
    "On va commencer par faire un tri de nos jeux de données afin de savoir lesquels nous allons garder."
   ]
  },
  {
   "cell_type": "markdown",
   "id": "c6c0d77d",
   "metadata": {},
   "source": [
    "## Customers"
   ]
  },
  {
   "cell_type": "code",
   "execution_count": 5,
   "id": "a9e08692",
   "metadata": {},
   "outputs": [
    {
     "data": {
      "text/plain": [
       "customer_id                 0\n",
       "customer_unique_id          0\n",
       "customer_zip_code_prefix    0\n",
       "customer_city               0\n",
       "customer_state              0\n",
       "dtype: int64"
      ]
     },
     "execution_count": 5,
     "metadata": {},
     "output_type": "execute_result"
    }
   ],
   "source": [
    "# On regarde les valeurs manquantes\n",
    "customers.isnull().sum()"
   ]
  },
  {
   "cell_type": "markdown",
   "id": "ce5a0765",
   "metadata": {},
   "source": [
    "En ce qui concerne les identifiants clients, seul le \"*customer_unique_id*\" nous intéresse, on garde \"*customer_id*\" pour pouvoir joindre nos jeux de données dans un second temps.\n",
    "\n",
    "S'il y a trop de zipcode, de villes ou d'Etats, nous supprimons les colonnes."
   ]
  },
  {
   "cell_type": "code",
   "execution_count": 6,
   "id": "31c6f294",
   "metadata": {},
   "outputs": [
    {
     "name": "stdout",
     "output_type": "stream",
     "text": [
      "customer_zip_code_prefix : 14994 \n",
      "\n",
      "customer_city : 4119 \n",
      "\n",
      "customer_state : 27 \n",
      "\n"
     ]
    }
   ],
   "source": [
    "cols = ['customer_zip_code_prefix', 'customer_city', 'customer_state']\n",
    "\n",
    "for col in cols:\n",
    "    print(f'{col} :', customers[col].nunique(), '\\n')"
   ]
  },
  {
   "cell_type": "code",
   "execution_count": 7,
   "id": "d0260baf",
   "metadata": {},
   "outputs": [],
   "source": [
    "customers.drop(columns=['customer_zip_code_prefix', 'customer_city',\n",
    "                        'customer_state'], inplace=True)"
   ]
  },
  {
   "cell_type": "markdown",
   "id": "25db2a8c",
   "metadata": {},
   "source": [
    "Au final, nous n'allons garder que le \"*customer_id*\" et le \"*customer_unique_id*\"."
   ]
  },
  {
   "cell_type": "markdown",
   "id": "c47af5c7",
   "metadata": {},
   "source": [
    "## Geolocation"
   ]
  },
  {
   "cell_type": "code",
   "execution_count": 8,
   "id": "f9761276",
   "metadata": {},
   "outputs": [
    {
     "data": {
      "text/plain": [
       "geolocation_zip_code_prefix    0\n",
       "geolocation_lat                0\n",
       "geolocation_lng                0\n",
       "geolocation_city               0\n",
       "geolocation_state              0\n",
       "dtype: int64"
      ]
     },
     "execution_count": 8,
     "metadata": {},
     "output_type": "execute_result"
    }
   ],
   "source": [
    "# On regarde les valeurs manquantes\n",
    "geolocation.isnull().sum()"
   ]
  },
  {
   "cell_type": "code",
   "execution_count": 9,
   "id": "23981ca4",
   "metadata": {},
   "outputs": [
    {
     "data": {
      "text/html": [
       "<div>\n",
       "<style scoped>\n",
       "    .dataframe tbody tr th:only-of-type {\n",
       "        vertical-align: middle;\n",
       "    }\n",
       "\n",
       "    .dataframe tbody tr th {\n",
       "        vertical-align: top;\n",
       "    }\n",
       "\n",
       "    .dataframe thead th {\n",
       "        text-align: right;\n",
       "    }\n",
       "</style>\n",
       "<table border=\"1\" class=\"dataframe\">\n",
       "  <thead>\n",
       "    <tr style=\"text-align: right;\">\n",
       "      <th></th>\n",
       "      <th>geolocation_zip_code_prefix</th>\n",
       "      <th>geolocation_lat</th>\n",
       "      <th>geolocation_lng</th>\n",
       "      <th>geolocation_city</th>\n",
       "      <th>geolocation_state</th>\n",
       "    </tr>\n",
       "  </thead>\n",
       "  <tbody>\n",
       "    <tr>\n",
       "      <th>0</th>\n",
       "      <td>1037</td>\n",
       "      <td>-23.545621</td>\n",
       "      <td>-46.639292</td>\n",
       "      <td>sao paulo</td>\n",
       "      <td>SP</td>\n",
       "    </tr>\n",
       "    <tr>\n",
       "      <th>1</th>\n",
       "      <td>1046</td>\n",
       "      <td>-23.546081</td>\n",
       "      <td>-46.644820</td>\n",
       "      <td>sao paulo</td>\n",
       "      <td>SP</td>\n",
       "    </tr>\n",
       "    <tr>\n",
       "      <th>2</th>\n",
       "      <td>1046</td>\n",
       "      <td>-23.546129</td>\n",
       "      <td>-46.642951</td>\n",
       "      <td>sao paulo</td>\n",
       "      <td>SP</td>\n",
       "    </tr>\n",
       "  </tbody>\n",
       "</table>\n",
       "</div>"
      ],
      "text/plain": [
       "   geolocation_zip_code_prefix  geolocation_lat  geolocation_lng  \\\n",
       "0                         1037       -23.545621       -46.639292   \n",
       "1                         1046       -23.546081       -46.644820   \n",
       "2                         1046       -23.546129       -46.642951   \n",
       "\n",
       "  geolocation_city geolocation_state  \n",
       "0        sao paulo                SP  \n",
       "1        sao paulo                SP  \n",
       "2        sao paulo                SP  "
      ]
     },
     "execution_count": 9,
     "metadata": {},
     "output_type": "execute_result"
    }
   ],
   "source": [
    "geolocation.head(3)"
   ]
  },
  {
   "cell_type": "markdown",
   "id": "91ac542b",
   "metadata": {},
   "source": [
    "De la même manière que précédemment, on va regarder le nombre de zipcodes, villes et Etats pour savoir si on garde ou non."
   ]
  },
  {
   "cell_type": "code",
   "execution_count": 10,
   "id": "c0fdd19c",
   "metadata": {},
   "outputs": [
    {
     "name": "stdout",
     "output_type": "stream",
     "text": [
      "geolocation_zip_code_prefix : 19015 \n",
      "\n",
      "geolocation_city : 8011 \n",
      "\n",
      "geolocation_state : 27 \n",
      "\n"
     ]
    }
   ],
   "source": [
    "cols = ['geolocation_zip_code_prefix', 'geolocation_city', 'geolocation_state']\n",
    "\n",
    "for col in cols:\n",
    "    print(f'{col} :', geolocation[col].nunique(), '\\n')"
   ]
  },
  {
   "cell_type": "markdown",
   "id": "edd3e266",
   "metadata": {},
   "source": [
    "Au final, nous n'allons pas utiliser ce jeu de données."
   ]
  },
  {
   "cell_type": "markdown",
   "id": "debd9bca",
   "metadata": {},
   "source": [
    "## Order_items"
   ]
  },
  {
   "cell_type": "code",
   "execution_count": 11,
   "id": "99c165fa",
   "metadata": {},
   "outputs": [
    {
     "data": {
      "text/plain": [
       "order_id               0\n",
       "order_item_id          0\n",
       "product_id             0\n",
       "seller_id              0\n",
       "shipping_limit_date    0\n",
       "price                  0\n",
       "freight_value          0\n",
       "dtype: int64"
      ]
     },
     "execution_count": 11,
     "metadata": {},
     "output_type": "execute_result"
    }
   ],
   "source": [
    "# On regarde les valeurs manquantes\n",
    "order_items.isnull().sum()"
   ]
  },
  {
   "cell_type": "code",
   "execution_count": 12,
   "id": "b35fc89d",
   "metadata": {},
   "outputs": [
    {
     "data": {
      "text/html": [
       "<div>\n",
       "<style scoped>\n",
       "    .dataframe tbody tr th:only-of-type {\n",
       "        vertical-align: middle;\n",
       "    }\n",
       "\n",
       "    .dataframe tbody tr th {\n",
       "        vertical-align: top;\n",
       "    }\n",
       "\n",
       "    .dataframe thead th {\n",
       "        text-align: right;\n",
       "    }\n",
       "</style>\n",
       "<table border=\"1\" class=\"dataframe\">\n",
       "  <thead>\n",
       "    <tr style=\"text-align: right;\">\n",
       "      <th></th>\n",
       "      <th>order_id</th>\n",
       "      <th>order_item_id</th>\n",
       "      <th>product_id</th>\n",
       "      <th>seller_id</th>\n",
       "      <th>shipping_limit_date</th>\n",
       "      <th>price</th>\n",
       "      <th>freight_value</th>\n",
       "    </tr>\n",
       "  </thead>\n",
       "  <tbody>\n",
       "    <tr>\n",
       "      <th>0</th>\n",
       "      <td>00010242fe8c5a6d1ba2dd792cb16214</td>\n",
       "      <td>1</td>\n",
       "      <td>4244733e06e7ecb4970a6e2683c13e61</td>\n",
       "      <td>48436dade18ac8b2bce089ec2a041202</td>\n",
       "      <td>2017-09-19 09:45:35</td>\n",
       "      <td>58.9</td>\n",
       "      <td>13.29</td>\n",
       "    </tr>\n",
       "    <tr>\n",
       "      <th>1</th>\n",
       "      <td>00018f77f2f0320c557190d7a144bdd3</td>\n",
       "      <td>1</td>\n",
       "      <td>e5f2d52b802189ee658865ca93d83a8f</td>\n",
       "      <td>dd7ddc04e1b6c2c614352b383efe2d36</td>\n",
       "      <td>2017-05-03 11:05:13</td>\n",
       "      <td>239.9</td>\n",
       "      <td>19.93</td>\n",
       "    </tr>\n",
       "    <tr>\n",
       "      <th>2</th>\n",
       "      <td>000229ec398224ef6ca0657da4fc703e</td>\n",
       "      <td>1</td>\n",
       "      <td>c777355d18b72b67abbeef9df44fd0fd</td>\n",
       "      <td>5b51032eddd242adc84c38acab88f23d</td>\n",
       "      <td>2018-01-18 14:48:30</td>\n",
       "      <td>199.0</td>\n",
       "      <td>17.87</td>\n",
       "    </tr>\n",
       "  </tbody>\n",
       "</table>\n",
       "</div>"
      ],
      "text/plain": [
       "                           order_id  order_item_id  \\\n",
       "0  00010242fe8c5a6d1ba2dd792cb16214              1   \n",
       "1  00018f77f2f0320c557190d7a144bdd3              1   \n",
       "2  000229ec398224ef6ca0657da4fc703e              1   \n",
       "\n",
       "                         product_id                         seller_id  \\\n",
       "0  4244733e06e7ecb4970a6e2683c13e61  48436dade18ac8b2bce089ec2a041202   \n",
       "1  e5f2d52b802189ee658865ca93d83a8f  dd7ddc04e1b6c2c614352b383efe2d36   \n",
       "2  c777355d18b72b67abbeef9df44fd0fd  5b51032eddd242adc84c38acab88f23d   \n",
       "\n",
       "   shipping_limit_date  price  freight_value  \n",
       "0  2017-09-19 09:45:35   58.9          13.29  \n",
       "1  2017-05-03 11:05:13  239.9          19.93  \n",
       "2  2018-01-18 14:48:30  199.0          17.87  "
      ]
     },
     "execution_count": 12,
     "metadata": {},
     "output_type": "execute_result"
    }
   ],
   "source": [
    "order_items.head(3)"
   ]
  },
  {
   "cell_type": "markdown",
   "id": "adf435ab",
   "metadata": {},
   "source": [
    "On supprime la date d'envoi des commandes et les identifiants des produits et vendeurs."
   ]
  },
  {
   "cell_type": "code",
   "execution_count": 13,
   "id": "feae7ebe",
   "metadata": {},
   "outputs": [],
   "source": [
    "order_items.drop(columns=['product_id', 'shipping_limit_date',\n",
    "                          'seller_id'], inplace=True)"
   ]
  },
  {
   "cell_type": "markdown",
   "id": "bc9d6d9e",
   "metadata": {},
   "source": [
    "## Order_payments"
   ]
  },
  {
   "cell_type": "code",
   "execution_count": 14,
   "id": "9a5b1e65",
   "metadata": {},
   "outputs": [
    {
     "data": {
      "text/plain": [
       "order_id                0\n",
       "payment_sequential      0\n",
       "payment_type            0\n",
       "payment_installments    0\n",
       "payment_value           0\n",
       "dtype: int64"
      ]
     },
     "execution_count": 14,
     "metadata": {},
     "output_type": "execute_result"
    }
   ],
   "source": [
    "# On regarde les valeurs manquantes\n",
    "order_payments.isnull().sum()"
   ]
  },
  {
   "cell_type": "code",
   "execution_count": 15,
   "id": "9b0b7b83",
   "metadata": {},
   "outputs": [
    {
     "data": {
      "text/html": [
       "<div>\n",
       "<style scoped>\n",
       "    .dataframe tbody tr th:only-of-type {\n",
       "        vertical-align: middle;\n",
       "    }\n",
       "\n",
       "    .dataframe tbody tr th {\n",
       "        vertical-align: top;\n",
       "    }\n",
       "\n",
       "    .dataframe thead th {\n",
       "        text-align: right;\n",
       "    }\n",
       "</style>\n",
       "<table border=\"1\" class=\"dataframe\">\n",
       "  <thead>\n",
       "    <tr style=\"text-align: right;\">\n",
       "      <th></th>\n",
       "      <th>order_id</th>\n",
       "      <th>payment_sequential</th>\n",
       "      <th>payment_type</th>\n",
       "      <th>payment_installments</th>\n",
       "      <th>payment_value</th>\n",
       "    </tr>\n",
       "  </thead>\n",
       "  <tbody>\n",
       "    <tr>\n",
       "      <th>0</th>\n",
       "      <td>b81ef226f3fe1789b1e8b2acac839d17</td>\n",
       "      <td>1</td>\n",
       "      <td>credit_card</td>\n",
       "      <td>8</td>\n",
       "      <td>99.33</td>\n",
       "    </tr>\n",
       "    <tr>\n",
       "      <th>1</th>\n",
       "      <td>a9810da82917af2d9aefd1278f1dcfa0</td>\n",
       "      <td>1</td>\n",
       "      <td>credit_card</td>\n",
       "      <td>1</td>\n",
       "      <td>24.39</td>\n",
       "    </tr>\n",
       "    <tr>\n",
       "      <th>2</th>\n",
       "      <td>25e8ea4e93396b6fa0d3dd708e76c1bd</td>\n",
       "      <td>1</td>\n",
       "      <td>credit_card</td>\n",
       "      <td>1</td>\n",
       "      <td>65.71</td>\n",
       "    </tr>\n",
       "  </tbody>\n",
       "</table>\n",
       "</div>"
      ],
      "text/plain": [
       "                           order_id  payment_sequential payment_type  \\\n",
       "0  b81ef226f3fe1789b1e8b2acac839d17                   1  credit_card   \n",
       "1  a9810da82917af2d9aefd1278f1dcfa0                   1  credit_card   \n",
       "2  25e8ea4e93396b6fa0d3dd708e76c1bd                   1  credit_card   \n",
       "\n",
       "   payment_installments  payment_value  \n",
       "0                     8          99.33  \n",
       "1                     1          24.39  \n",
       "2                     1          65.71  "
      ]
     },
     "execution_count": 15,
     "metadata": {},
     "output_type": "execute_result"
    }
   ],
   "source": [
    "order_payments.head(3)"
   ]
  },
  {
   "cell_type": "markdown",
   "id": "03f3c9bc",
   "metadata": {},
   "source": [
    "Nous allons uniquement supprimer le type de moyen de paiement utilisé."
   ]
  },
  {
   "cell_type": "code",
   "execution_count": 16,
   "id": "353461cc",
   "metadata": {},
   "outputs": [],
   "source": [
    "order_payments.drop(columns=['payment_type'],\n",
    "                    inplace=True)"
   ]
  },
  {
   "cell_type": "markdown",
   "id": "cc966bfa",
   "metadata": {},
   "source": [
    "## Order_reviews"
   ]
  },
  {
   "cell_type": "code",
   "execution_count": 17,
   "id": "1b3b2fc4",
   "metadata": {},
   "outputs": [
    {
     "data": {
      "text/plain": [
       "review_id                      0\n",
       "order_id                       0\n",
       "review_score                   0\n",
       "review_comment_title       87656\n",
       "review_comment_message     58247\n",
       "review_creation_date           0\n",
       "review_answer_timestamp        0\n",
       "dtype: int64"
      ]
     },
     "execution_count": 17,
     "metadata": {},
     "output_type": "execute_result"
    }
   ],
   "source": [
    "# On regarde les valeurs manquantes\n",
    "order_reviews.isnull().sum()"
   ]
  },
  {
   "cell_type": "markdown",
   "id": "6197cd04",
   "metadata": {},
   "source": [
    "Certaines commandes peuvent avoir plusieurs notes, on va garder les notes les plus récentes."
   ]
  },
  {
   "cell_type": "code",
   "execution_count": 18,
   "id": "833ee06f",
   "metadata": {},
   "outputs": [],
   "source": [
    "# On veut juste savoir combiens de commandes ont plusieurs notes\n",
    "doublons = order_reviews[order_reviews['order_id'].duplicated()]"
   ]
  },
  {
   "cell_type": "code",
   "execution_count": 19,
   "id": "29326166",
   "metadata": {},
   "outputs": [],
   "source": [
    "# On transforme nos dates dans le bon format\n",
    "order_reviews['review_answer_timestamp'] = pd.to_datetime(\n",
    "    order_reviews['review_answer_timestamp'], format='%Y-%m-%d %H:%M:%S')\n",
    "\n",
    "# On trie pour avoir nos notes les plus récentes en premières\n",
    "order_reviews.sort_values('review_answer_timestamp',\n",
    "                          ascending=False, inplace=True)\n",
    "\n",
    "# On note combien on a de lignes\n",
    "nb_row = order_reviews.shape[0]"
   ]
  },
  {
   "cell_type": "code",
   "execution_count": 20,
   "id": "766b81cf",
   "metadata": {},
   "outputs": [],
   "source": [
    "# On supprime nos doublons\n",
    "order_reviews.drop_duplicates(subset=['order_id'], inplace=True)\n",
    "\n",
    "# On note combien on a de lignes\n",
    "nb_row_drop = order_reviews.shape[0]"
   ]
  },
  {
   "cell_type": "code",
   "execution_count": 21,
   "id": "6b484f4c",
   "metadata": {},
   "outputs": [
    {
     "name": "stdout",
     "output_type": "stream",
     "text": [
      "Nombre de doublons : 551 \n",
      "\n",
      "Nombre de lignes supprimées : 551\n"
     ]
    }
   ],
   "source": [
    "# On vérifie\n",
    "print('Nombre de doublons :', doublons.shape[0], '\\n')\n",
    "print('Nombre de lignes supprimées :', nb_row - nb_row_drop)"
   ]
  },
  {
   "cell_type": "markdown",
   "id": "eb148d98",
   "metadata": {},
   "source": [
    "Seul le score donné à la commande nous intéresse."
   ]
  },
  {
   "cell_type": "code",
   "execution_count": 22,
   "id": "858061cc",
   "metadata": {},
   "outputs": [],
   "source": [
    "order_reviews.drop(columns=['review_id', 'review_comment_title',\n",
    "                            'review_comment_message', 'review_creation_date',\n",
    "                            'review_answer_timestamp'], inplace=True)"
   ]
  },
  {
   "cell_type": "markdown",
   "id": "6c4d14ce",
   "metadata": {},
   "source": [
    "## Order"
   ]
  },
  {
   "cell_type": "code",
   "execution_count": 23,
   "id": "4e891cc6",
   "metadata": {},
   "outputs": [
    {
     "data": {
      "text/plain": [
       "order_id                            0\n",
       "customer_id                         0\n",
       "order_status                        0\n",
       "order_purchase_timestamp            0\n",
       "order_approved_at                 160\n",
       "order_delivered_carrier_date     1783\n",
       "order_delivered_customer_date    2965\n",
       "order_estimated_delivery_date       0\n",
       "dtype: int64"
      ]
     },
     "execution_count": 23,
     "metadata": {},
     "output_type": "execute_result"
    }
   ],
   "source": [
    "# On regarde les valeurs manquantes\n",
    "orders.isnull().sum()"
   ]
  },
  {
   "cell_type": "markdown",
   "id": "15528362",
   "metadata": {},
   "source": [
    "Nous n'avons besoin que de savoir quand a eu lieu le dernier achat (on garde \"*order_purchase_timestamp*\")."
   ]
  },
  {
   "cell_type": "code",
   "execution_count": 24,
   "id": "4f5af3ae",
   "metadata": {},
   "outputs": [],
   "source": [
    "orders.drop(columns=['order_status', 'order_approved_at',\n",
    "                     'order_delivered_carrier_date',\n",
    "                     'order_delivered_customer_date',\n",
    "                     'order_estimated_delivery_date'], inplace=True)"
   ]
  },
  {
   "cell_type": "markdown",
   "id": "527e1344",
   "metadata": {},
   "source": [
    "## Products"
   ]
  },
  {
   "cell_type": "code",
   "execution_count": 25,
   "id": "a67b6df2",
   "metadata": {},
   "outputs": [
    {
     "data": {
      "text/plain": [
       "product_id                      0\n",
       "product_category_name         610\n",
       "product_name_lenght           610\n",
       "product_description_lenght    610\n",
       "product_photos_qty            610\n",
       "product_weight_g                2\n",
       "product_length_cm               2\n",
       "product_height_cm               2\n",
       "product_width_cm                2\n",
       "dtype: int64"
      ]
     },
     "execution_count": 25,
     "metadata": {},
     "output_type": "execute_result"
    }
   ],
   "source": [
    "# On regarde les valeurs manquantes\n",
    "products.isnull().sum()"
   ]
  },
  {
   "cell_type": "markdown",
   "id": "2b6ee3c3",
   "metadata": {},
   "source": [
    "Les informations relatives aux produits (taille, photo, etc.) ne nous intéresse pas pour segmenter les clients. On va regarder à quoi correspond les différentes catégories de produits."
   ]
  },
  {
   "cell_type": "code",
   "execution_count": 26,
   "id": "c6f6a969",
   "metadata": {},
   "outputs": [],
   "source": [
    "# On supprime directement ces colonnes\n",
    "products.drop(columns=['product_name_lenght', 'product_description_lenght',\n",
    "                       'product_photos_qty', 'product_weight_g',\n",
    "                       'product_length_cm', 'product_height_cm',\n",
    "                       'product_width_cm'], inplace=True)"
   ]
  },
  {
   "cell_type": "code",
   "execution_count": 27,
   "id": "16705674",
   "metadata": {},
   "outputs": [
    {
     "name": "stdout",
     "output_type": "stream",
     "text": [
      "['perfumaria' 'artes' 'esporte_lazer' 'bebes' 'utilidades_domesticas'\n",
      " 'instrumentos_musicais' 'cool_stuff' 'moveis_decoracao'\n",
      " 'eletrodomesticos' 'brinquedos' 'cama_mesa_banho'\n",
      " 'construcao_ferramentas_seguranca' 'informatica_acessorios'\n",
      " 'beleza_saude' 'malas_acessorios' 'ferramentas_jardim'\n",
      " 'moveis_escritorio' 'automotivo' 'eletronicos' 'fashion_calcados'\n",
      " 'telefonia' 'papelaria' 'fashion_bolsas_e_acessorios' 'pcs'\n",
      " 'casa_construcao' 'relogios_presentes'\n",
      " 'construcao_ferramentas_construcao' 'pet_shop' 'eletroportateis'\n",
      " 'agro_industria_e_comercio' nan 'moveis_sala' 'sinalizacao_e_seguranca'\n",
      " 'climatizacao' 'consoles_games' 'livros_interesse_geral'\n",
      " 'construcao_ferramentas_ferramentas' 'fashion_underwear_e_moda_praia'\n",
      " 'fashion_roupa_masculina'\n",
      " 'moveis_cozinha_area_de_servico_jantar_e_jardim'\n",
      " 'industria_comercio_e_negocios' 'telefonia_fixa'\n",
      " 'construcao_ferramentas_iluminacao' 'livros_tecnicos'\n",
      " 'eletrodomesticos_2' 'artigos_de_festas' 'bebidas' 'market_place'\n",
      " 'la_cuisine' 'construcao_ferramentas_jardim' 'fashion_roupa_feminina'\n",
      " 'casa_conforto' 'audio' 'alimentos_bebidas' 'musica' 'alimentos'\n",
      " 'tablets_impressao_imagem' 'livros_importados'\n",
      " 'portateis_casa_forno_e_cafe' 'fashion_esporte' 'artigos_de_natal'\n",
      " 'fashion_roupa_infanto_juvenil' 'dvds_blu_ray' 'artes_e_artesanato'\n",
      " 'pc_gamer' 'moveis_quarto' 'cine_foto' 'fraldas_higiene' 'flores'\n",
      " 'casa_conforto_2' 'portateis_cozinha_e_preparadores_de_alimentos'\n",
      " 'seguros_e_servicos' 'moveis_colchao_e_estofado' 'cds_dvds_musicais'] \n",
      "\n",
      "Nombre de catégories : 73\n"
     ]
    }
   ],
   "source": [
    "# On regarde les catégories\n",
    "print(products['product_category_name'].unique(), '\\n')\n",
    "print('Nombre de catégories :', products['product_category_name'].nunique())"
   ]
  },
  {
   "cell_type": "markdown",
   "id": "2607d2f8",
   "metadata": {},
   "source": [
    "Il y a beaucoup trop de catégories pour que cela soit utile à une équipe marketing, on supprime la colonne. Il ne resterait que la colonne \"*product_id*\" que nous n'allons pas utiliser. Au final, il s'avère que nous n'allons pas du tout utiliser ce jeu de données."
   ]
  },
  {
   "cell_type": "markdown",
   "id": "e3b5c33a",
   "metadata": {},
   "source": [
    "## Sellers"
   ]
  },
  {
   "cell_type": "code",
   "execution_count": 28,
   "id": "a4bca18d",
   "metadata": {},
   "outputs": [
    {
     "data": {
      "text/plain": [
       "seller_id                 0\n",
       "seller_zip_code_prefix    0\n",
       "seller_city               0\n",
       "seller_state              0\n",
       "dtype: int64"
      ]
     },
     "execution_count": 28,
     "metadata": {},
     "output_type": "execute_result"
    }
   ],
   "source": [
    "# On regarde les valeurs manquantes\n",
    "sellers.isnull().sum()"
   ]
  },
  {
   "cell_type": "markdown",
   "id": "f1deda9b",
   "metadata": {},
   "source": [
    "Nous n'avons pas besoin des informations relatives aux vendeurs pour segmenter nos clients. Nous n'allons pas utiliser ce jeu de données non plus."
   ]
  },
  {
   "cell_type": "markdown",
   "id": "fbc0e359",
   "metadata": {},
   "source": [
    "# Fusion et nettoyage des données"
   ]
  },
  {
   "cell_type": "code",
   "execution_count": 29,
   "id": "e6ff7cf2",
   "metadata": {},
   "outputs": [],
   "source": [
    "# On fusionne nos jeux de données\n",
    "df = (orders.merge(customers, on='customer_id', how='left')\n",
    "      .merge(order_reviews, on='order_id', how='left')\n",
    "      .merge(order_payments, on='order_id', how='left')\n",
    "      .merge(order_items, on='order_id', how='left'))"
   ]
  },
  {
   "cell_type": "code",
   "execution_count": 30,
   "id": "948a7148",
   "metadata": {},
   "outputs": [
    {
     "data": {
      "text/plain": [
       "(118434, 11)"
      ]
     },
     "execution_count": 30,
     "metadata": {},
     "output_type": "execute_result"
    }
   ],
   "source": [
    "# Format du jeu de données\n",
    "df.shape"
   ]
  },
  {
   "cell_type": "code",
   "execution_count": 31,
   "id": "d3b38ca1",
   "metadata": {},
   "outputs": [
    {
     "data": {
      "text/plain": [
       "0"
      ]
     },
     "execution_count": 31,
     "metadata": {},
     "output_type": "execute_result"
    }
   ],
   "source": [
    "# On vérifie la présence de doublon\n",
    "df.duplicated().sum()"
   ]
  },
  {
   "cell_type": "code",
   "execution_count": 32,
   "id": "b7aa6f49",
   "metadata": {},
   "outputs": [],
   "source": [
    "# On peut maintenant supprimer \"customer_id\"\n",
    "df.drop(columns=['customer_id'], inplace=True)"
   ]
  },
  {
   "cell_type": "code",
   "execution_count": 33,
   "id": "6da7ad9c",
   "metadata": {},
   "outputs": [
    {
     "data": {
      "text/plain": [
       "order_id                      0\n",
       "order_purchase_timestamp      0\n",
       "customer_unique_id            0\n",
       "review_score                997\n",
       "payment_sequential            3\n",
       "payment_installments          3\n",
       "payment_value                 3\n",
       "order_item_id               830\n",
       "price                       830\n",
       "freight_value               830\n",
       "dtype: int64"
      ]
     },
     "execution_count": 33,
     "metadata": {},
     "output_type": "execute_result"
    }
   ],
   "source": [
    "# Regardons nos valeurs manquantes\n",
    "df.isnull().sum()"
   ]
  },
  {
   "cell_type": "code",
   "execution_count": 34,
   "id": "77d95fa4",
   "metadata": {},
   "outputs": [
    {
     "data": {
      "text/plain": [
       "<AxesSubplot:>"
      ]
     },
     "execution_count": 34,
     "metadata": {},
     "output_type": "execute_result"
    },
    {
     "data": {
      "image/png": "[encoded data removed]",
      "text/plain": [
       "<Figure size 1800x720 with 2 Axes>"
      ]
     },
     "metadata": {
      "needs_background": "light"
     },
     "output_type": "display_data"
    }
   ],
   "source": [
    "# Regardons visuellement les valeurs manquantes\n",
    "msno.matrix(df)"
   ]
  },
  {
   "cell_type": "markdown",
   "id": "546a6b07",
   "metadata": {},
   "source": [
    "Les valeurs manquantes de notre colonne \"*review_score*\" correspondent à des commandes qui n'ont pas eu de note. On remplace les commandes sans notes par la note moyenne de la colonne. On garde la note sous la forme de nombre entier."
   ]
  },
  {
   "cell_type": "code",
   "execution_count": 35,
   "id": "292389df",
   "metadata": {},
   "outputs": [
    {
     "name": "stdout",
     "output_type": "stream",
     "text": [
      "La note moyenne est : 4.016127796180079\n"
     ]
    }
   ],
   "source": [
    "# On calcule en amont la note moyenne\n",
    "note_moy = df['review_score'].mean()\n",
    "\n",
    "# Et on remplace\n",
    "df['review_score'].fillna(round(note_moy), inplace=True)\n",
    "\n",
    "# On affice la note moyenne pour information\n",
    "print('La note moyenne est :', note_moy)"
   ]
  },
  {
   "cell_type": "markdown",
   "id": "8ce13919",
   "metadata": {},
   "source": [
    "On s'intéresse à nos dernières valeurs manquantes.\n",
    "\n",
    "Si une commande a eu 3 produits par exemple, nous allons nous retrouver avec 3 lignes différentes. C'est la même chose pour le nombre de moyen de paiements et le nombre de paiements effectués. On va juste garder le nombre maximale de produits, de moyens de paiements et de paiements effectués."
   ]
  },
  {
   "cell_type": "code",
   "execution_count": 36,
   "id": "edaed06f",
   "metadata": {},
   "outputs": [
    {
     "data": {
      "text/plain": [
       "array([ 1.,  2.,  3.,  4.,  5.,  6., nan,  7.,  8.,  9., 10., 11., 12.,\n",
       "       13., 14., 15., 16., 17., 18., 19., 20., 21.])"
      ]
     },
     "execution_count": 36,
     "metadata": {},
     "output_type": "execute_result"
    }
   ],
   "source": [
    "# Regardons quelles sont les valeurs de la colonne \"order_item_id\"\n",
    "df['order_item_id'].unique()"
   ]
  },
  {
   "cell_type": "code",
   "execution_count": 37,
   "id": "89999294",
   "metadata": {},
   "outputs": [
    {
     "data": {
      "text/plain": [
       "array([ 1.,  3.,  6., 10.,  4.,  2.,  8.,  9.,  7.,  5., 13., 12., 15.,\n",
       "       14., 21., 18., 24., 17., 11., 20., 23., 16., nan, 22.,  0.])"
      ]
     },
     "execution_count": 37,
     "metadata": {},
     "output_type": "execute_result"
    }
   ],
   "source": [
    "# Regardons quelles sont les valeurs de la colonne \"payment_installments\"\n",
    "df['payment_installments'].unique()"
   ]
  },
  {
   "cell_type": "code",
   "execution_count": 38,
   "id": "bb2bc37b",
   "metadata": {},
   "outputs": [
    {
     "data": {
      "text/plain": [
       "array([ 1.,  3.,  2.,  4.,  8.,  5.,  7.,  9.,  6., 14., 17., 22., 11.,\n",
       "       16., 13., 18., 12., 19., 21., 20., 10., 15., 27., 25., 29., 28.,\n",
       "       26., 23., 24., nan])"
      ]
     },
     "execution_count": 38,
     "metadata": {},
     "output_type": "execute_result"
    }
   ],
   "source": [
    "# Regardons quelles sont les valeurs de la colonne \"payment_sequential\"\n",
    "df['payment_sequential'].unique()"
   ]
  },
  {
   "cell_type": "markdown",
   "id": "327fb085",
   "metadata": {},
   "source": [
    "Pour les colonnes \"*order_item_id*\", \"*payment_installments*\" et \"*payment_sequential*\", on va donc remplacer toutes les valeurs de chaque commande par son maximum. On peut ensuite supprimer les doublons."
   ]
  },
  {
   "cell_type": "code",
   "execution_count": 39,
   "id": "3c9356ef",
   "metadata": {},
   "outputs": [],
   "source": [
    "# On garde le maximum de chaque commande pour nos 3 colonnes\n",
    "df['order_item_id'] = df.groupby('order_id')['order_item_id'].transform('max')\n",
    "\n",
    "df['payment_sequential'] = (df.groupby('order_id')['payment_sequential']\n",
    "                            .transform('max'))\n",
    "\n",
    "df['payment_installments'] = (df.groupby('order_id')['payment_installments']\n",
    "                              .transform('max'))\n",
    "# On supprime les doublons\n",
    "df.drop_duplicates(inplace=True)"
   ]
  },
  {
   "cell_type": "code",
   "execution_count": 40,
   "id": "24479293",
   "metadata": {},
   "outputs": [],
   "source": [
    "# On calcule le montant total de chaque commande\n",
    "df['order_total_cost'] = (df.groupby('order_id')['payment_value']\n",
    "                          .transform('sum'))"
   ]
  },
  {
   "cell_type": "code",
   "execution_count": 41,
   "id": "caad94d1",
   "metadata": {},
   "outputs": [
    {
     "data": {
      "text/html": [
       "<div>\n",
       "<style scoped>\n",
       "    .dataframe tbody tr th:only-of-type {\n",
       "        vertical-align: middle;\n",
       "    }\n",
       "\n",
       "    .dataframe tbody tr th {\n",
       "        vertical-align: top;\n",
       "    }\n",
       "\n",
       "    .dataframe thead th {\n",
       "        text-align: right;\n",
       "    }\n",
       "</style>\n",
       "<table border=\"1\" class=\"dataframe\">\n",
       "  <thead>\n",
       "    <tr style=\"text-align: right;\">\n",
       "      <th></th>\n",
       "      <th>order_id</th>\n",
       "      <th>order_purchase_timestamp</th>\n",
       "      <th>customer_unique_id</th>\n",
       "      <th>review_score</th>\n",
       "      <th>payment_sequential</th>\n",
       "      <th>payment_installments</th>\n",
       "      <th>payment_value</th>\n",
       "      <th>order_item_id</th>\n",
       "      <th>price</th>\n",
       "      <th>freight_value</th>\n",
       "      <th>order_total_cost</th>\n",
       "    </tr>\n",
       "  </thead>\n",
       "  <tbody>\n",
       "    <tr>\n",
       "      <th>0</th>\n",
       "      <td>e481f51cbdc54678b7cc49136f2d6af7</td>\n",
       "      <td>2017-10-02 10:56:33</td>\n",
       "      <td>7c396fd4830fd04220f754e42b4e5bff</td>\n",
       "      <td>4.0</td>\n",
       "      <td>3.0</td>\n",
       "      <td>1.0</td>\n",
       "      <td>18.12</td>\n",
       "      <td>1.0</td>\n",
       "      <td>29.99</td>\n",
       "      <td>8.72</td>\n",
       "      <td>38.71</td>\n",
       "    </tr>\n",
       "    <tr>\n",
       "      <th>1</th>\n",
       "      <td>e481f51cbdc54678b7cc49136f2d6af7</td>\n",
       "      <td>2017-10-02 10:56:33</td>\n",
       "      <td>7c396fd4830fd04220f754e42b4e5bff</td>\n",
       "      <td>4.0</td>\n",
       "      <td>3.0</td>\n",
       "      <td>1.0</td>\n",
       "      <td>2.00</td>\n",
       "      <td>1.0</td>\n",
       "      <td>29.99</td>\n",
       "      <td>8.72</td>\n",
       "      <td>38.71</td>\n",
       "    </tr>\n",
       "    <tr>\n",
       "      <th>2</th>\n",
       "      <td>e481f51cbdc54678b7cc49136f2d6af7</td>\n",
       "      <td>2017-10-02 10:56:33</td>\n",
       "      <td>7c396fd4830fd04220f754e42b4e5bff</td>\n",
       "      <td>4.0</td>\n",
       "      <td>3.0</td>\n",
       "      <td>1.0</td>\n",
       "      <td>18.59</td>\n",
       "      <td>1.0</td>\n",
       "      <td>29.99</td>\n",
       "      <td>8.72</td>\n",
       "      <td>38.71</td>\n",
       "    </tr>\n",
       "    <tr>\n",
       "      <th>3</th>\n",
       "      <td>53cdb2fc8bc7dce0b6741e2150273451</td>\n",
       "      <td>2018-07-24 20:41:37</td>\n",
       "      <td>af07308b275d755c9edb36a90c618231</td>\n",
       "      <td>4.0</td>\n",
       "      <td>1.0</td>\n",
       "      <td>1.0</td>\n",
       "      <td>141.46</td>\n",
       "      <td>1.0</td>\n",
       "      <td>118.70</td>\n",
       "      <td>22.76</td>\n",
       "      <td>141.46</td>\n",
       "    </tr>\n",
       "    <tr>\n",
       "      <th>4</th>\n",
       "      <td>47770eb9100c2d0c44946d9cf07ec65d</td>\n",
       "      <td>2018-08-08 08:38:49</td>\n",
       "      <td>3a653a41f6f9fc3d2a113cf8398680e8</td>\n",
       "      <td>5.0</td>\n",
       "      <td>1.0</td>\n",
       "      <td>3.0</td>\n",
       "      <td>179.12</td>\n",
       "      <td>1.0</td>\n",
       "      <td>159.90</td>\n",
       "      <td>19.22</td>\n",
       "      <td>179.12</td>\n",
       "    </tr>\n",
       "  </tbody>\n",
       "</table>\n",
       "</div>"
      ],
      "text/plain": [
       "                           order_id order_purchase_timestamp  \\\n",
       "0  e481f51cbdc54678b7cc49136f2d6af7      2017-10-02 10:56:33   \n",
       "1  e481f51cbdc54678b7cc49136f2d6af7      2017-10-02 10:56:33   \n",
       "2  e481f51cbdc54678b7cc49136f2d6af7      2017-10-02 10:56:33   \n",
       "3  53cdb2fc8bc7dce0b6741e2150273451      2018-07-24 20:41:37   \n",
       "4  47770eb9100c2d0c44946d9cf07ec65d      2018-08-08 08:38:49   \n",
       "\n",
       "                 customer_unique_id  review_score  payment_sequential  \\\n",
       "0  7c396fd4830fd04220f754e42b4e5bff           4.0                 3.0   \n",
       "1  7c396fd4830fd04220f754e42b4e5bff           4.0                 3.0   \n",
       "2  7c396fd4830fd04220f754e42b4e5bff           4.0                 3.0   \n",
       "3  af07308b275d755c9edb36a90c618231           4.0                 1.0   \n",
       "4  3a653a41f6f9fc3d2a113cf8398680e8           5.0                 1.0   \n",
       "\n",
       "   payment_installments  payment_value  order_item_id   price  freight_value  \\\n",
       "0                   1.0          18.12            1.0   29.99           8.72   \n",
       "1                   1.0           2.00            1.0   29.99           8.72   \n",
       "2                   1.0          18.59            1.0   29.99           8.72   \n",
       "3                   1.0         141.46            1.0  118.70          22.76   \n",
       "4                   3.0         179.12            1.0  159.90          19.22   \n",
       "\n",
       "   order_total_cost  \n",
       "0             38.71  \n",
       "1             38.71  \n",
       "2             38.71  \n",
       "3            141.46  \n",
       "4            179.12  "
      ]
     },
     "execution_count": 41,
     "metadata": {},
     "output_type": "execute_result"
    }
   ],
   "source": [
    "# Regardons les premières lignes\n",
    "df.head()"
   ]
  },
  {
   "cell_type": "markdown",
   "id": "b91a359a",
   "metadata": {},
   "source": [
    "On peut maintenant supprimer un certain nombre de colonnes : \"*payment_sequential*\", \"*product_id*\", \"*price*\", \"*freight_value*\" et \"*payment_value*\"."
   ]
  },
  {
   "cell_type": "code",
   "execution_count": 42,
   "id": "ba51ff75",
   "metadata": {},
   "outputs": [],
   "source": [
    "df.drop(columns=['payment_sequential', 'price',\n",
    "                 'freight_value', 'payment_value'], inplace=True)"
   ]
  },
  {
   "cell_type": "code",
   "execution_count": 43,
   "id": "ac300c7a",
   "metadata": {},
   "outputs": [
    {
     "data": {
      "text/plain": [
       "6880"
      ]
     },
     "execution_count": 43,
     "metadata": {},
     "output_type": "execute_result"
    }
   ],
   "source": [
    "# On regarde si on a encore des doublons\n",
    "df.duplicated().sum()"
   ]
  },
  {
   "cell_type": "code",
   "execution_count": 44,
   "id": "91b3e50e",
   "metadata": {},
   "outputs": [],
   "source": [
    "# On supprime les derniers doublons\n",
    "df = df.drop_duplicates()"
   ]
  },
  {
   "cell_type": "code",
   "execution_count": 45,
   "id": "8eb97c68",
   "metadata": {},
   "outputs": [
    {
     "name": "stdout",
     "output_type": "stream",
     "text": [
      "order_id                      0\n",
      "order_purchase_timestamp      0\n",
      "customer_unique_id            0\n",
      "review_score                  0\n",
      "payment_installments          1\n",
      "order_item_id               775\n",
      "order_total_cost              0\n",
      "dtype: int64 \n",
      "\n",
      "order_id                    0.000000\n",
      "order_purchase_timestamp    0.000000\n",
      "customer_unique_id          0.000000\n",
      "review_score                0.000000\n",
      "payment_installments        0.000010\n",
      "order_item_id               0.007794\n",
      "order_total_cost            0.000000\n",
      "dtype: float64\n"
     ]
    }
   ],
   "source": [
    "# On regarde les dernières valeurs manquantes\n",
    "print(df.isnull().sum(), '\\n')\n",
    "print(df.isnull().mean())"
   ]
  },
  {
   "cell_type": "markdown",
   "id": "43e78cbf",
   "metadata": {},
   "source": [
    "Nous allons supprimer les dernières valeurs manquantes plutôt que de remplacer par d'autres valeurs."
   ]
  },
  {
   "cell_type": "code",
   "execution_count": 46,
   "id": "aaf83d64",
   "metadata": {},
   "outputs": [],
   "source": [
    "# On supprime les dernières valeurs manquantes\n",
    "df.dropna(subset=['order_item_id', 'payment_installments'], inplace=True)"
   ]
  },
  {
   "cell_type": "code",
   "execution_count": 47,
   "id": "0ca8fd68",
   "metadata": {},
   "outputs": [
    {
     "data": {
      "text/plain": [
       "(98665, 7)"
      ]
     },
     "execution_count": 47,
     "metadata": {},
     "output_type": "execute_result"
    }
   ],
   "source": [
    "# Taille de notre jeu de données\n",
    "df.shape"
   ]
  },
  {
   "cell_type": "markdown",
   "id": "15e84126",
   "metadata": {},
   "source": [
    "Nous allons maintenant changer le type de certaines de nos colonnes"
   ]
  },
  {
   "cell_type": "code",
   "execution_count": 48,
   "id": "3f23984f",
   "metadata": {},
   "outputs": [
    {
     "data": {
      "text/plain": [
       "order_id                     object\n",
       "order_purchase_timestamp     object\n",
       "customer_unique_id           object\n",
       "review_score                float64\n",
       "payment_installments        float64\n",
       "order_item_id               float64\n",
       "order_total_cost            float64\n",
       "dtype: object"
      ]
     },
     "execution_count": 48,
     "metadata": {},
     "output_type": "execute_result"
    }
   ],
   "source": [
    "# On vérifie le type de nos colonnes\n",
    "df.dtypes"
   ]
  },
  {
   "cell_type": "code",
   "execution_count": 49,
   "id": "d25f6e51",
   "metadata": {},
   "outputs": [],
   "source": [
    "# On transforme quelques colonnes en entiers pour mieux refléter le contenu\n",
    "for col in ['review_score', 'payment_installments', 'order_item_id']:\n",
    "    df[col] = df[col].astype(int)"
   ]
  },
  {
   "cell_type": "code",
   "execution_count": 50,
   "id": "e6fd59ba",
   "metadata": {},
   "outputs": [],
   "source": [
    "# On transforme notre colonne de date en datetime\n",
    "df['order_purchase_timestamp'] = pd.to_datetime(\n",
    "    df['order_purchase_timestamp'], format='%Y-%m-%d %H:%M:%S')"
   ]
  },
  {
   "cell_type": "code",
   "execution_count": 51,
   "id": "09f0caaa",
   "metadata": {},
   "outputs": [
    {
     "data": {
      "text/html": [
       "<div>\n",
       "<style scoped>\n",
       "    .dataframe tbody tr th:only-of-type {\n",
       "        vertical-align: middle;\n",
       "    }\n",
       "\n",
       "    .dataframe tbody tr th {\n",
       "        vertical-align: top;\n",
       "    }\n",
       "\n",
       "    .dataframe thead th {\n",
       "        text-align: right;\n",
       "    }\n",
       "</style>\n",
       "<table border=\"1\" class=\"dataframe\">\n",
       "  <thead>\n",
       "    <tr style=\"text-align: right;\">\n",
       "      <th></th>\n",
       "      <th>order_id</th>\n",
       "      <th>order_purchase_timestamp</th>\n",
       "      <th>customer_unique_id</th>\n",
       "      <th>review_score</th>\n",
       "      <th>payment_installments</th>\n",
       "      <th>order_item_id</th>\n",
       "      <th>order_total_cost</th>\n",
       "    </tr>\n",
       "  </thead>\n",
       "  <tbody>\n",
       "    <tr>\n",
       "      <th>0</th>\n",
       "      <td>e481f51cbdc54678b7cc49136f2d6af7</td>\n",
       "      <td>2017-10-02 10:56:33</td>\n",
       "      <td>7c396fd4830fd04220f754e42b4e5bff</td>\n",
       "      <td>4</td>\n",
       "      <td>1</td>\n",
       "      <td>1</td>\n",
       "      <td>38.71</td>\n",
       "    </tr>\n",
       "    <tr>\n",
       "      <th>3</th>\n",
       "      <td>53cdb2fc8bc7dce0b6741e2150273451</td>\n",
       "      <td>2018-07-24 20:41:37</td>\n",
       "      <td>af07308b275d755c9edb36a90c618231</td>\n",
       "      <td>4</td>\n",
       "      <td>1</td>\n",
       "      <td>1</td>\n",
       "      <td>141.46</td>\n",
       "    </tr>\n",
       "    <tr>\n",
       "      <th>4</th>\n",
       "      <td>47770eb9100c2d0c44946d9cf07ec65d</td>\n",
       "      <td>2018-08-08 08:38:49</td>\n",
       "      <td>3a653a41f6f9fc3d2a113cf8398680e8</td>\n",
       "      <td>5</td>\n",
       "      <td>3</td>\n",
       "      <td>1</td>\n",
       "      <td>179.12</td>\n",
       "    </tr>\n",
       "  </tbody>\n",
       "</table>\n",
       "</div>"
      ],
      "text/plain": [
       "                           order_id order_purchase_timestamp  \\\n",
       "0  e481f51cbdc54678b7cc49136f2d6af7      2017-10-02 10:56:33   \n",
       "3  53cdb2fc8bc7dce0b6741e2150273451      2018-07-24 20:41:37   \n",
       "4  47770eb9100c2d0c44946d9cf07ec65d      2018-08-08 08:38:49   \n",
       "\n",
       "                 customer_unique_id  review_score  payment_installments  \\\n",
       "0  7c396fd4830fd04220f754e42b4e5bff             4                     1   \n",
       "3  af07308b275d755c9edb36a90c618231             4                     1   \n",
       "4  3a653a41f6f9fc3d2a113cf8398680e8             5                     3   \n",
       "\n",
       "   order_item_id  order_total_cost  \n",
       "0              1             38.71  \n",
       "3              1            141.46  \n",
       "4              1            179.12  "
      ]
     },
     "execution_count": 51,
     "metadata": {},
     "output_type": "execute_result"
    }
   ],
   "source": [
    "# On vérifie\n",
    "df.head(3)"
   ]
  },
  {
   "cell_type": "code",
   "execution_count": 52,
   "id": "302a3c07",
   "metadata": {},
   "outputs": [],
   "source": [
    "# On enlève les heures - minutes - secondes, on ne garde que la date\n",
    "df['order_purchase_timestamp'] = df['order_purchase_timestamp'].dt.date"
   ]
  },
  {
   "cell_type": "markdown",
   "id": "f9b4d91c",
   "metadata": {},
   "source": [
    "Pour information, on va regarder la date de la première et de la dernière commande ainsi que le temps entre les deux."
   ]
  },
  {
   "cell_type": "code",
   "execution_count": 53,
   "id": "d81af840",
   "metadata": {},
   "outputs": [
    {
     "name": "stdout",
     "output_type": "stream",
     "text": [
      "Date de la dernière commande du jeu de données : 2018-09-03\n",
      "Date de la première commande du jeu de données : 2016-09-04\n",
      "Nombre de jours : 729\n"
     ]
    }
   ],
   "source": [
    "# Date de la dernière commande du jeu de données\n",
    "jour_max = df['order_purchase_timestamp'].max()\n",
    "print('Date de la dernière commande du jeu de données :', jour_max)\n",
    "\n",
    "# Date de la première commande du jeu de données\n",
    "jour_min = df['order_purchase_timestamp'].min()\n",
    "print('Date de la première commande du jeu de données :', jour_min)\n",
    "\n",
    "# Nombre de jour au total\n",
    "nb_jours = (jour_max - jour_min).days\n",
    "print('Nombre de jours :', nb_jours)"
   ]
  },
  {
   "cell_type": "markdown",
   "id": "b2cb17d8",
   "metadata": {},
   "source": [
    "On crée une colonne qui va calculer la différence entre la durée entre la commande la plus récente (du 03/09/2018) et la commande de chacune de nos lignes."
   ]
  },
  {
   "cell_type": "code",
   "execution_count": 54,
   "id": "9744bb73",
   "metadata": {},
   "outputs": [],
   "source": [
    "# Temps entre la commande du client et la dernière date du jeu de données\n",
    "df['time_delta'] = (df['order_purchase_timestamp'].max()\n",
    "                    - df['order_purchase_timestamp'])"
   ]
  },
  {
   "cell_type": "code",
   "execution_count": 55,
   "id": "03ab9323",
   "metadata": {
    "scrolled": true
   },
   "outputs": [
    {
     "data": {
      "text/html": [
       "<div>\n",
       "<style scoped>\n",
       "    .dataframe tbody tr th:only-of-type {\n",
       "        vertical-align: middle;\n",
       "    }\n",
       "\n",
       "    .dataframe tbody tr th {\n",
       "        vertical-align: top;\n",
       "    }\n",
       "\n",
       "    .dataframe thead th {\n",
       "        text-align: right;\n",
       "    }\n",
       "</style>\n",
       "<table border=\"1\" class=\"dataframe\">\n",
       "  <thead>\n",
       "    <tr style=\"text-align: right;\">\n",
       "      <th></th>\n",
       "      <th>order_id</th>\n",
       "      <th>order_purchase_timestamp</th>\n",
       "      <th>customer_unique_id</th>\n",
       "      <th>review_score</th>\n",
       "      <th>payment_installments</th>\n",
       "      <th>order_item_id</th>\n",
       "      <th>order_total_cost</th>\n",
       "      <th>time_delta</th>\n",
       "    </tr>\n",
       "  </thead>\n",
       "  <tbody>\n",
       "    <tr>\n",
       "      <th>0</th>\n",
       "      <td>e481f51cbdc54678b7cc49136f2d6af7</td>\n",
       "      <td>2017-10-02</td>\n",
       "      <td>7c396fd4830fd04220f754e42b4e5bff</td>\n",
       "      <td>4</td>\n",
       "      <td>1</td>\n",
       "      <td>1</td>\n",
       "      <td>38.71</td>\n",
       "      <td>336 days</td>\n",
       "    </tr>\n",
       "    <tr>\n",
       "      <th>3</th>\n",
       "      <td>53cdb2fc8bc7dce0b6741e2150273451</td>\n",
       "      <td>2018-07-24</td>\n",
       "      <td>af07308b275d755c9edb36a90c618231</td>\n",
       "      <td>4</td>\n",
       "      <td>1</td>\n",
       "      <td>1</td>\n",
       "      <td>141.46</td>\n",
       "      <td>41 days</td>\n",
       "    </tr>\n",
       "    <tr>\n",
       "      <th>4</th>\n",
       "      <td>47770eb9100c2d0c44946d9cf07ec65d</td>\n",
       "      <td>2018-08-08</td>\n",
       "      <td>3a653a41f6f9fc3d2a113cf8398680e8</td>\n",
       "      <td>5</td>\n",
       "      <td>3</td>\n",
       "      <td>1</td>\n",
       "      <td>179.12</td>\n",
       "      <td>26 days</td>\n",
       "    </tr>\n",
       "  </tbody>\n",
       "</table>\n",
       "</div>"
      ],
      "text/plain": [
       "                           order_id order_purchase_timestamp  \\\n",
       "0  e481f51cbdc54678b7cc49136f2d6af7               2017-10-02   \n",
       "3  53cdb2fc8bc7dce0b6741e2150273451               2018-07-24   \n",
       "4  47770eb9100c2d0c44946d9cf07ec65d               2018-08-08   \n",
       "\n",
       "                 customer_unique_id  review_score  payment_installments  \\\n",
       "0  7c396fd4830fd04220f754e42b4e5bff             4                     1   \n",
       "3  af07308b275d755c9edb36a90c618231             4                     1   \n",
       "4  3a653a41f6f9fc3d2a113cf8398680e8             5                     3   \n",
       "\n",
       "   order_item_id  order_total_cost time_delta  \n",
       "0              1             38.71   336 days  \n",
       "3              1            141.46    41 days  \n",
       "4              1            179.12    26 days  "
      ]
     },
     "execution_count": 55,
     "metadata": {},
     "output_type": "execute_result"
    }
   ],
   "source": [
    "df.head(3)"
   ]
  },
  {
   "cell_type": "code",
   "execution_count": 56,
   "id": "f9285662",
   "metadata": {},
   "outputs": [],
   "source": [
    "# On transforme \"time_delta\" pour n'avoir que les jours en nombres entiers\n",
    "df['time_delta'] = df['time_delta'].dt.days"
   ]
  },
  {
   "cell_type": "code",
   "execution_count": 57,
   "id": "1f980c2a",
   "metadata": {},
   "outputs": [
    {
     "data": {
      "text/plain": [
       "order_id                     object\n",
       "order_purchase_timestamp     object\n",
       "customer_unique_id           object\n",
       "review_score                  int32\n",
       "payment_installments          int32\n",
       "order_item_id                 int32\n",
       "order_total_cost            float64\n",
       "time_delta                    int64\n",
       "dtype: object"
      ]
     },
     "execution_count": 57,
     "metadata": {},
     "output_type": "execute_result"
    }
   ],
   "source": [
    "# On vérifie le typage de nos colonnes\n",
    "df.dtypes"
   ]
  },
  {
   "cell_type": "markdown",
   "id": "23811d63",
   "metadata": {},
   "source": [
    "On vérifie les valeurs de nos variables."
   ]
  },
  {
   "cell_type": "code",
   "execution_count": 58,
   "id": "cf1340f2",
   "metadata": {},
   "outputs": [
    {
     "data": {
      "text/html": [
       "<div>\n",
       "<style scoped>\n",
       "    .dataframe tbody tr th:only-of-type {\n",
       "        vertical-align: middle;\n",
       "    }\n",
       "\n",
       "    .dataframe tbody tr th {\n",
       "        vertical-align: top;\n",
       "    }\n",
       "\n",
       "    .dataframe thead th {\n",
       "        text-align: right;\n",
       "    }\n",
       "</style>\n",
       "<table border=\"1\" class=\"dataframe\">\n",
       "  <thead>\n",
       "    <tr style=\"text-align: right;\">\n",
       "      <th></th>\n",
       "      <th>review_score</th>\n",
       "      <th>payment_installments</th>\n",
       "      <th>order_item_id</th>\n",
       "      <th>order_total_cost</th>\n",
       "      <th>time_delta</th>\n",
       "    </tr>\n",
       "  </thead>\n",
       "  <tbody>\n",
       "    <tr>\n",
       "      <th>count</th>\n",
       "      <td>98665.000000</td>\n",
       "      <td>98665.000000</td>\n",
       "      <td>98665.000000</td>\n",
       "      <td>98665.000000</td>\n",
       "      <td>98665.000000</td>\n",
       "    </tr>\n",
       "    <tr>\n",
       "      <th>mean</th>\n",
       "      <td>4.103897</td>\n",
       "      <td>2.931870</td>\n",
       "      <td>1.141712</td>\n",
       "      <td>168.470796</td>\n",
       "      <td>245.711276</td>\n",
       "    </tr>\n",
       "    <tr>\n",
       "      <th>std</th>\n",
       "      <td>1.326601</td>\n",
       "      <td>2.714891</td>\n",
       "      <td>0.538423</td>\n",
       "      <td>247.568345</td>\n",
       "      <td>153.386346</td>\n",
       "    </tr>\n",
       "    <tr>\n",
       "      <th>min</th>\n",
       "      <td>1.000000</td>\n",
       "      <td>0.000000</td>\n",
       "      <td>1.000000</td>\n",
       "      <td>6.150000</td>\n",
       "      <td>0.000000</td>\n",
       "    </tr>\n",
       "    <tr>\n",
       "      <th>25%</th>\n",
       "      <td>4.000000</td>\n",
       "      <td>1.000000</td>\n",
       "      <td>1.000000</td>\n",
       "      <td>61.940000</td>\n",
       "      <td>122.000000</td>\n",
       "    </tr>\n",
       "    <tr>\n",
       "      <th>50%</th>\n",
       "      <td>5.000000</td>\n",
       "      <td>2.000000</td>\n",
       "      <td>1.000000</td>\n",
       "      <td>106.010000</td>\n",
       "      <td>227.000000</td>\n",
       "    </tr>\n",
       "    <tr>\n",
       "      <th>75%</th>\n",
       "      <td>5.000000</td>\n",
       "      <td>4.000000</td>\n",
       "      <td>1.000000</td>\n",
       "      <td>181.160000</td>\n",
       "      <td>356.000000</td>\n",
       "    </tr>\n",
       "    <tr>\n",
       "      <th>max</th>\n",
       "      <td>5.000000</td>\n",
       "      <td>24.000000</td>\n",
       "      <td>21.000000</td>\n",
       "      <td>13664.080000</td>\n",
       "      <td>729.000000</td>\n",
       "    </tr>\n",
       "  </tbody>\n",
       "</table>\n",
       "</div>"
      ],
      "text/plain": [
       "       review_score  payment_installments  order_item_id  order_total_cost  \\\n",
       "count  98665.000000          98665.000000   98665.000000      98665.000000   \n",
       "mean       4.103897              2.931870       1.141712        168.470796   \n",
       "std        1.326601              2.714891       0.538423        247.568345   \n",
       "min        1.000000              0.000000       1.000000          6.150000   \n",
       "25%        4.000000              1.000000       1.000000         61.940000   \n",
       "50%        5.000000              2.000000       1.000000        106.010000   \n",
       "75%        5.000000              4.000000       1.000000        181.160000   \n",
       "max        5.000000             24.000000      21.000000      13664.080000   \n",
       "\n",
       "         time_delta  \n",
       "count  98665.000000  \n",
       "mean     245.711276  \n",
       "std      153.386346  \n",
       "min        0.000000  \n",
       "25%      122.000000  \n",
       "50%      227.000000  \n",
       "75%      356.000000  \n",
       "max      729.000000  "
      ]
     },
     "execution_count": 58,
     "metadata": {},
     "output_type": "execute_result"
    }
   ],
   "source": [
    "df.describe()"
   ]
  },
  {
   "cell_type": "code",
   "execution_count": 59,
   "id": "55edff68",
   "metadata": {},
   "outputs": [
    {
     "data": {
      "text/plain": [
       "1     47823\n",
       "2     12291\n",
       "3     10371\n",
       "4      7022\n",
       "10     5261\n",
       "5      5188\n",
       "8      4237\n",
       "6      3887\n",
       "7      1611\n",
       "9       635\n",
       "12      131\n",
       "15       74\n",
       "18       27\n",
       "11       22\n",
       "24       18\n",
       "20       17\n",
       "13       16\n",
       "14       15\n",
       "17        7\n",
       "16        5\n",
       "21        3\n",
       "0         2\n",
       "22        1\n",
       "23        1\n",
       "Name: payment_installments, dtype: int64"
      ]
     },
     "execution_count": 59,
     "metadata": {},
     "output_type": "execute_result"
    }
   ],
   "source": [
    "# On ne peut pas avoir 0 paiements\n",
    "# On regarde combien de valeurs sont à 0\n",
    "df['payment_installments'].value_counts()"
   ]
  },
  {
   "cell_type": "code",
   "execution_count": 60,
   "id": "af17b240",
   "metadata": {},
   "outputs": [],
   "source": [
    "# On va remplacer nos deux lignes avec des \"0\" par des \"1\"\n",
    "for row in df.index:\n",
    "\n",
    "    if df.loc[row, 'payment_installments'] == 0:\n",
    "        df.loc[row, 'payment_installments'] = 1"
   ]
  },
  {
   "cell_type": "markdown",
   "id": "aa3c71c1",
   "metadata": {},
   "source": [
    "On va sauvegarder ce jeu de données tel quel afin de pouvoir ensuite étudier uniquement certaines périodes temporelles."
   ]
  },
  {
   "cell_type": "code",
   "execution_count": 61,
   "id": "9c72df9a",
   "metadata": {},
   "outputs": [],
   "source": [
    "# On sauvegarde notre jeu de données au format .csv\n",
    "df_csv = df.to_csv('P5_01_frequence.csv')"
   ]
  },
  {
   "cell_type": "markdown",
   "id": "9bbaecb6",
   "metadata": {},
   "source": [
    "# Agrégation et analyse de nos variables"
   ]
  },
  {
   "cell_type": "markdown",
   "id": "b1dfa78a",
   "metadata": {},
   "source": [
    "## Agrégation"
   ]
  },
  {
   "cell_type": "code",
   "execution_count": 62,
   "id": "ca5d238d",
   "metadata": {},
   "outputs": [],
   "source": [
    "# On crée une copie\n",
    "df_bis = df.copy()"
   ]
  },
  {
   "cell_type": "markdown",
   "id": "d2222893",
   "metadata": {},
   "source": [
    "On va agréger nos colonnes pour avoir chaque commande en fonction de nos clients. "
   ]
  },
  {
   "cell_type": "code",
   "execution_count": 63,
   "id": "3b26712b",
   "metadata": {},
   "outputs": [],
   "source": [
    "df_bis = (df_bis.groupby('customer_unique_id').agg(\n",
    "    nb_commandes=('order_id', 'count'), score_moy=('review_score', 'mean'),\n",
    "    nb_paiements=('payment_installments', 'mean'),\n",
    "    nb_produits=('order_item_id', 'mean'),\n",
    "    recence=('time_delta', 'min'),\n",
    "    montant_total=('order_total_cost', 'sum')))"
   ]
  },
  {
   "cell_type": "markdown",
   "id": "d7e8fdee",
   "metadata": {},
   "source": [
    "On transforme en nombres entiers les colonnes où nous avons calculé des moyennes."
   ]
  },
  {
   "cell_type": "code",
   "execution_count": 64,
   "id": "ed95e14b",
   "metadata": {},
   "outputs": [],
   "source": [
    "for col in ['score_moy', 'nb_paiements', 'nb_produits']:\n",
    "    df_bis[col] = df_bis[col].astype(int)"
   ]
  },
  {
   "cell_type": "markdown",
   "id": "6462fc3b",
   "metadata": {},
   "source": [
    "Il nous reste à ajouter la fréquence d'achat de chacun des clients sur la période étudiée."
   ]
  },
  {
   "cell_type": "code",
   "execution_count": 65,
   "id": "8de7db52",
   "metadata": {},
   "outputs": [],
   "source": [
    "df_bis['frequence_achat'] = round(df_bis['nb_commandes'] / nb_jours, 4)"
   ]
  },
  {
   "cell_type": "code",
   "execution_count": 66,
   "id": "dda467bd",
   "metadata": {},
   "outputs": [
    {
     "data": {
      "text/plain": [
       "array([0.0014, 0.0027, 0.0041, 0.0055, 0.0082, 0.0096, 0.0069, 0.0123,\n",
       "       0.0219])"
      ]
     },
     "execution_count": 66,
     "metadata": {},
     "output_type": "execute_result"
    }
   ],
   "source": [
    "# Pour information :\n",
    "df_bis['frequence_achat'].unique()"
   ]
  },
  {
   "cell_type": "markdown",
   "id": "87d9c7c6",
   "metadata": {},
   "source": [
    "## Analyse des variables"
   ]
  },
  {
   "cell_type": "code",
   "execution_count": 67,
   "id": "fe2147be",
   "metadata": {},
   "outputs": [],
   "source": [
    "# Analyse univariée des variables que l'on souhaite\n",
    "def univariee(col, data):\n",
    "    \"\"\"\n",
    "    Prend une variable d'un dataframe et retourne les mesures\n",
    "    de tendance centrale (moyenne, médiane) et les mesures\n",
    "    de dispersion (variance, écart-type) de la variable choisie.\n",
    "    Pour une visualisation graphique, retourne l'histogramme\n",
    "    de la variable choisie.\n",
    "            Parameters:\n",
    "                col (object): variable que l'on souhaite étudier\n",
    "                data : dataframe à utiliser\n",
    "    \"\"\"\n",
    "    # On vérifie que la variable en entrée est bien numérique\n",
    "    if ((data[col].dtype == float) |\n",
    "            (data[col].dtype == np.int64) | (data[col].dtype == np.int32)):\n",
    "\n",
    "        # Mesures de tendances centrales et de dispersion de la variable\n",
    "        print(col)\n",
    "        print('moyenne :', round(data[col].mean(), 2))\n",
    "        print('médiane :', round(data[col].median(), 2))\n",
    "        print('variance :', round(data[col].var(), 2))\n",
    "        print('écart-type :', round(data[col].std(), 2))\n",
    "\n",
    "        # Histrogramme de la distribution de la variable\n",
    "        sns.set_context('notebook', font_scale=1.25)\n",
    "        plt.style.use('seaborn-darkgrid')\n",
    "        plt.figure(figsize=(8, 8))\n",
    "        plt.hist(x=data[col].values, bins=50, align='left',\n",
    "                 color='#4d7cab', edgecolor='black', linewidth=1.1)\n",
    "        plt.title(f'Distribution de la variable : {col}')\n",
    "        plt.show()\n",
    "\n",
    "    else:\n",
    "        print(f\"{col} n'est pas une variable quantitatives.\", '\\n')"
   ]
  },
  {
   "cell_type": "code",
   "execution_count": 68,
   "id": "6a5f23a4",
   "metadata": {},
   "outputs": [
    {
     "data": {
      "text/plain": [
       "Index(['nb_commandes', 'score_moy', 'nb_paiements', 'nb_produits', 'recence',\n",
       "       'montant_total', 'frequence_achat'],\n",
       "      dtype='object')"
      ]
     },
     "execution_count": 68,
     "metadata": {},
     "output_type": "execute_result"
    }
   ],
   "source": [
    "# On vérifie les colonnes\n",
    "df_bis.columns"
   ]
  },
  {
   "cell_type": "code",
   "execution_count": 69,
   "id": "fcd80f96",
   "metadata": {
    "scrolled": true
   },
   "outputs": [
    {
     "name": "stdout",
     "output_type": "stream",
     "text": [
      "nb_commandes\n",
      "moyenne : 1.03\n",
      "médiane : 1.0\n",
      "variance : 0.04\n",
      "écart-type : 0.21\n"
     ]
    },
    {
     "data": {
      "image/png": "[encoded data removed]",
      "text/plain": [
       "<Figure size 576x576 with 1 Axes>"
      ]
     },
     "metadata": {},
     "output_type": "display_data"
    },
    {
     "name": "stdout",
     "output_type": "stream",
     "text": [
      "score_moy\n",
      "moyenne : 4.1\n",
      "médiane : 5.0\n",
      "variance : 1.75\n",
      "écart-type : 1.32\n"
     ]
    },
    {
     "data": {
      "image/png": "[encoded data removed]",
      "text/plain": [
       "<Figure size 576x576 with 1 Axes>"
      ]
     },
     "metadata": {},
     "output_type": "display_data"
    },
    {
     "name": "stdout",
     "output_type": "stream",
     "text": [
      "nb_paiements\n",
      "moyenne : 2.91\n",
      "médiane : 2.0\n",
      "variance : 7.24\n",
      "écart-type : 2.69\n"
     ]
    },
    {
     "data": {
      "image/png": "[encoded data removed]",
      "text/plain": [
       "<Figure size 576x576 with 1 Axes>"
      ]
     },
     "metadata": {},
     "output_type": "display_data"
    },
    {
     "name": "stdout",
     "output_type": "stream",
     "text": [
      "nb_produits\n",
      "moyenne : 1.14\n",
      "médiane : 1.0\n",
      "variance : 0.28\n",
      "écart-type : 0.52\n"
     ]
    },
    {
     "data": {
      "image/png": "[encoded data removed]",
      "text/plain": [
       "<Figure size 576x576 with 1 Axes>"
      ]
     },
     "metadata": {},
     "output_type": "display_data"
    },
    {
     "name": "stdout",
     "output_type": "stream",
     "text": [
      "recence\n",
      "moyenne : 243.5\n",
      "médiane : 224.0\n",
      "variance : 23456.13\n",
      "écart-type : 153.15\n"
     ]
    },
    {
     "data": {
      "image/png": "[encoded data removed]",
      "text/plain": [
       "<Figure size 576x576 with 1 Axes>"
      ]
     },
     "metadata": {},
     "output_type": "display_data"
    },
    {
     "name": "stdout",
     "output_type": "stream",
     "text": [
      "montant_total\n",
      "moyenne : 174.2\n",
      "médiane : 108.6\n",
      "variance : 65657.34\n",
      "écart-type : 256.24\n"
     ]
    },
    {
     "data": {
      "image/png": "[encoded data removed]",
      "text/plain": [
       "<Figure size 576x576 with 1 Axes>"
      ]
     },
     "metadata": {},
     "output_type": "display_data"
    },
    {
     "name": "stdout",
     "output_type": "stream",
     "text": [
      "frequence_achat\n",
      "moyenne : 0.0\n",
      "médiane : 0.0\n",
      "variance : 0.0\n",
      "écart-type : 0.0\n"
     ]
    },
    {
     "data": {
      "image/png": "[encoded data removed]",
      "text/plain": [
       "<Figure size 576x576 with 1 Axes>"
      ]
     },
     "metadata": {},
     "output_type": "display_data"
    }
   ],
   "source": [
    "# On regarde nos variables\n",
    "for col in df_bis.columns:\n",
    "    univariee(col, df_bis)"
   ]
  },
  {
   "cell_type": "markdown",
   "id": "d19f1d8d",
   "metadata": {},
   "source": [
    "Les colonnes \"*nb_commandes*\", \"*nb_paiments*\", \"*nb_produits*\", \"*montant_total*\" et \"*frequence_achat*\" devront être passées au log pour transformer la distribution qui, pour l'instant, est très concentrée sur des petites valeurs."
   ]
  },
  {
   "cell_type": "code",
   "execution_count": null,
   "id": "b17ae1a4",
   "metadata": {},
   "outputs": [],
   "source": []
  }
 ],
 "metadata": {
  "kernelspec": {
   "display_name": "Python 3",
   "language": "python",
   "name": "python3"
  },
  "language_info": {
   "codemirror_mode": {
    "name": "ipython",
    "version": 3
   },
   "file_extension": ".py",
   "mimetype": "text/x-python",
   "name": "python",
   "nbconvert_exporter": "python",
   "pygments_lexer": "ipython3",
   "version": "3.8.8"
  }
 },
 "nbformat": 4,
 "nbformat_minor": 5
}
